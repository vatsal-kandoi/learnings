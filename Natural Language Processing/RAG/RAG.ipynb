{
 "cells": [
  {
   "cell_type": "markdown",
   "metadata": {},
   "source": [
    "# RAG from scratch\n",
    "\n",
    "### References\n",
    "\n",
    "* https://towardsdatascience.com/local-rag-from-scratch-3afc6d3dea08\n",
    "* https://iamajithkumar.medium.com/how-to-use-chroma-to-build-your-first-similarity-search-5c054bfd5add\n"
   ]
  },
  {
   "cell_type": "markdown",
   "metadata": {},
   "source": [
    "### Chunky"
   ]
  },
  {
   "cell_type": "code",
   "execution_count": 1,
   "metadata": {},
   "outputs": [
    {
     "name": "stderr",
     "output_type": "stream",
     "text": [
      "c:\\Users\\HP\\anaconda3\\envs\\nlp\\Lib\\site-packages\\tqdm\\auto.py:21: TqdmWarning: IProgress not found. Please update jupyter and ipywidgets. See https://ipywidgets.readthedocs.io/en/stable/user_install.html\n",
      "  from .autonotebook import tqdm as notebook_tqdm\n"
     ]
    }
   ],
   "source": [
    "import re\n",
    "import os\n",
    "import uuid\n",
    "\n",
    "from transformers import AutoTokenizer, AutoModel"
   ]
  },
  {
   "cell_type": "code",
   "execution_count": 2,
   "metadata": {},
   "outputs": [],
   "source": [
    "from transformers import AutoModel, AutoTokenizer\n",
    "import torch\n",
    "\n",
    "model_name = \"BAAI/bge-small-en-v1.5\"\n",
    "\n",
    "tokenizer = AutoTokenizer.from_pretrained(model_name)\n",
    "model = AutoModel.from_pretrained(model_name)\n",
    "\n",
    "tokenizer.save_pretrained(\"model/tokenizer\")\n",
    "model.save_pretrained(\"model/embedding\")"
   ]
  },
  {
   "cell_type": "code",
   "execution_count": 3,
   "metadata": {},
   "outputs": [],
   "source": [
    "def recursivelyChunkTillOptimumSize(\n",
    "        chunks, \n",
    "        tokenizer, \n",
    "        chunk_size = 1024, \n",
    "        separator = None, \n",
    "        secondary_chunking_regex = None ):\n",
    "\n",
    "    modifiedChunks = []\n",
    "    refined = []\n",
    "    current_chunk = \"\"\n",
    "    # Split all words of size greater than chunk size into smaller chunks\n",
    "    while len(chunks) > 0:\n",
    "        chunk = chunks.pop(0)\n",
    "        chunk = chunk.strip()\n",
    "\n",
    "        if len(tokenizer.tokenize(chunk)) > chunk_size:\n",
    "            sub_chunks = re.split(secondary_chunking_regex, current_chunk)\n",
    "            chunks = sub_chunks + chunks\n",
    "        else:\n",
    "            modifiedChunks.append(chunk)\n",
    "\n",
    "    # Join small chunks ot make big chunks\n",
    "    current_chunk = \"\"\n",
    "    for chunk in modifiedChunks:\n",
    "        new_chunk = current_chunk + (separator if current_chunk else '') + chunk\n",
    "\n",
    "        if len(tokenizer.tokenize(new_chunk)) <= chunk_size:\n",
    "            current_chunk = new_chunk\n",
    "        else:\n",
    "            if current_chunk:\n",
    "                refined.append(current_chunk)\n",
    "            current_chunk = chunk\n",
    "\n",
    "    if current_chunk:\n",
    "        refined.append(current_chunk)\n",
    "\n",
    "    return refined    \n",
    "    \n",
    "def chunk( \n",
    "        text, \n",
    "        tokenizer, \n",
    "        paragraph_separator = \"\\n\\n\", \n",
    "        chunk_size = 1024, \n",
    "        separator = \" \", \n",
    "        secondary_chunking_regex = r'\\S+?[\\.,;!?]',\n",
    "        chunk_overlap = 0 ):\n",
    "    # Divide documents into paragraphs\n",
    "    paragraphs = re.split(paragraph_separator, text)\n",
    "    all_chunks = []\n",
    "\n",
    "    for paragraph in paragraphs:\n",
    "        words = paragraph.split(separator)\n",
    "        chunks = recursivelyChunkTillOptimumSize(\n",
    "            words, \n",
    "            tokenizer, \n",
    "            chunk_size = chunk_size, \n",
    "            separator = separator, \n",
    "            secondary_chunking_regex = secondary_chunking_regex \n",
    "        )\n",
    "        all_chunks.extend(chunks)\n",
    "\n",
    "    if chunk_overlap == 0:\n",
    "        return all_chunks\n",
    "\n",
    "    final_chunks = []\n",
    "    for idx, chunk in enumerate(all_chunks):\n",
    "        if idx == 0:\n",
    "            final_chunks.append(chunk)\n",
    "            continue\n",
    "        # split the overlap between end of last chunk and start of next chunk\n",
    "        overlap_chunk = all_chunks[idx - 1][overlap_chunk // 2: ] + all_chunks[idx][0: overlap_chunk // 2]\n",
    "        final_chunks.extend( [overlap_chunk, chunk] )\n",
    "\n",
    "    return final_chunks    "
   ]
  },
  {
   "cell_type": "markdown",
   "metadata": {},
   "source": [
    "### Indexing\n",
    "\n",
    "* Statisticals -> bag of words, sparse locations, etc\n",
    "* Machine learned -> embedding"
   ]
  },
  {
   "cell_type": "code",
   "execution_count": 4,
   "metadata": {},
   "outputs": [],
   "source": [
    "def compute_embeddings(chunk, tokenizer, model):\n",
    "    inputs = tokenizer(chunk, return_tensors=\"pt\", padding=True, truncation=True) \n",
    "    \n",
    "    # Generate the embeddings \n",
    "    with torch.no_grad():    \n",
    "        embeddings = model(**inputs).last_hidden_state.mean(dim=1).squeeze()\n",
    "\n",
    "    return embeddings.tolist()"
   ]
  },
  {
   "cell_type": "code",
   "execution_count": 63,
   "metadata": {},
   "outputs": [],
   "source": [
    "import chromadb\n",
    "chroma_client = chromadb.PersistentClient(path=\"database4\")\n",
    "collection = chroma_client.create_collection(name=\"embeddings3\", metadata={\"hnsw:space\": \"cosine\", \"hnsw:M\": 16, \"hnsw:search_ef\": 100 }, get_or_create = True)\n"
   ]
  },
  {
   "cell_type": "code",
   "execution_count": 64,
   "metadata": {},
   "outputs": [],
   "source": [
    "data = {\n",
    "    \"MBR-2001\": \"Traditional sleigh bed crafted in rich walnut wood, featuring a curved headboard and footboard with intricate grain details. Queen size, includes a plush, supportive mattress. Produced by Heritage Bed Co. Dimensions: 65\\\"W x 85\\\"L x 50\\\"H.\",\n",
    "    \"MBR-2002\": \"Art Deco-inspired vanity table in a polished ebony finish, featuring a tri-fold mirror and five drawers with crystal knobs. Includes a matching stool upholstered in silver velvet. Made by Luxe Interiors. Vanity dimensions: 48\\\"W x 20\\\"D x 30\\\"H, Stool dimensions: 22\\\"W x 16\\\"D x 18\\\"H.\",\n",
    "    \"MBR-2003\": \"Set of sheer linen drapes in soft ivory, offering a delicate and airy touch to bedroom windows. Each panel measures 54\\\"W x 84\\\"L. Features hidden tabs for easy hanging. Manufactured by Tranquil Home Textiles.\",\n",
    "\n",
    "    \"LVR-3001\": \"Convertible sofa bed upholstered in navy blue linen fabric, easily transitions from sofa to full-size sleeper. Perfect for guests or small living spaces. Features a sturdy wooden frame. Produced by SofaBed Solutions. Dimensions: 70\\\"W x 38\\\"D x 35\\\"H.\",\n",
    "    \"LVR-3002\": \"Ornate Persian area rug in deep red and gold, hand-knotted from silk and wool. Adds a luxurious touch to any living room. Measures 8' x 10'. Manufactured by Ancient Weaves.\",\n",
    "    \"LVR-3003\": \"Contemporary TV stand in matte black with tempered glass doors and chrome legs. Features integrated cable management and adjustable shelves. Accommodates up to 65-inch TVs. Made by Streamline Tech. Dimensions: 60\\\"W x 20\\\"D x 24\\\"H.\",\n",
    "\n",
    "    \"OPT-4001\": \"Modular outdoor sofa set in espresso brown polyethylene wicker, includes three corner pieces and two armless chairs with water-resistant cushions in cream. Configurable to fit any patio space. Produced by Outdoor Living. Corner dimensions: 32\\\"W x 32\\\"D x 28\\\"H, Armless dimensions: 28\\\"W x 32\\\"D x 28\\\"H.\",\n",
    "    \"OPT-4002\": \"Cantilever umbrella in sunflower yellow, featuring a 10-foot canopy and adjustable tilt for optimal shade. Constructed with a sturdy aluminum pole and fade-resistant fabric. Manufactured by Shade Masters. Dimensions: 120\\\"W x 120\\\"D x 96\\\"H.\",\n",
    "    \"OPT-4003\": \"Rustic fire pit table made from faux stone, includes a natural gas hookup and a matching cover. Ideal for evening gatherings on the patio. Manufactured by Warmth Outdoor. Dimensions: 42\\\"W x 42\\\"D x 24\\\"H.\",\n",
    "\n",
    "    \"ENT-5001\": \"Digital jukebox with touchscreen interface and built-in speakers, capable of streaming music and playing CDs. Retro design with modern technology, includes customizable LED lighting. Produced by RetroSound. Dimensions: 24\\\"W x 15\\\"D x 48\\\"H.\",\n",
    "    \"ENT-5002\": \"Gaming console storage unit in sleek black, featuring designated compartments for systems, controllers, and games. Ventilated to prevent overheating. Manufactured by GameHub. Dimensions: 42\\\"W x 16\\\"D x 24\\\"H.\",\n",
    "    \"ENT-5003\": \"Virtual reality gaming set by VR Innovations, includes headset, two motion controllers, and a charging station. Offers a comprehensive library of immersive games and experiences.\",\n",
    "\n",
    "    \"KIT-6001\": \"Chef's rolling kitchen cart in stainless steel, features two shelves, a drawer, and towel bars. Portable and versatile, ideal for extra storage and workspace in the kitchen. Produced by KitchenAid. Dimensions: 30\\\"W x 18\\\"D x 36\\\"H.\",\n",
    "    \"KIT-6002\": \"Contemporary pendant light cluster with three frosted glass shades, suspended from a polished nickel ceiling plate. Provides elegant, diffuse lighting over kitchen islands. Manufactured by Luminary Designs. Adjustable drop length up to 60\\\".\",\n",
    "    \"KIT-6003\": \"Eight-piece ceramic dinnerware set in ocean blue, includes dinner plates, salad plates, bowls, and mugs. Dishwasher and microwave safe, adds a pop of color to any meal. Produced by Tabletop Trends.\",\n",
    "\n",
    "    \"GBR-7001\": \"Twin-size daybed with trundle in brushed silver metal, ideal for guest rooms or small spaces. Includes two comfortable twin mattresses. Manufactured by Guestroom Gadgets. Bed dimensions: 79\\\"L x 42\\\"W x 34\\\"H.\",\n",
    "    \"GBR-7002\": \"Wall art set featuring three abstract prints in blue and grey tones, framed in light wood. Each frame measures 24\\\"W x 36\\\"H. Adds a modern touch to guest bedrooms. Produced by Artistic Expressions.\",\n",
    "    \"GBR-7003\": \"Set of two bedside lamps in brushed nickel with white fabric shades. Offers a soft, ambient light suitable for reading or relaxing in bed. Dimensions per lamp: 12\\\"W x 24\\\"H. Manufactured by Bright Nights.\",\n",
    "\n",
    "    \"BMT-8001\": \"Industrial-style pool table with a slate top and black felt, includes cues, balls, and a rack. Perfect for entertaining and game nights in finished basements. Produced by Billiard Masters. Dimensions: 96\\\"L x 52\\\"W x 32\\\"H.\",\n",
    "    \"BMT-8002\": \"Leather home theater recliner set in black, includes four connected seats with individual cup holders and storage compartments. Offers a luxurious movie-watching experience. Made by CinemaComfort. Dimensions per seat: 22\\\"W x 40\\\"D x 40\\\"H.\",\n",
    "    \"BMT-8003\": \"Adjustable height pub table set with four stools, featuring a rustic wood finish and black metal frame. Ideal for casual dining or socializing in basements. Produced by Casual Home. Table dimensions: 36\\\"W x 36\\\"D x 42\\\"H, Stool dimensions: 15\\\"W x 15\\\"D x 30\\\"H.\"\n",
    "}"
   ]
  },
  {
   "cell_type": "code",
   "execution_count": 65,
   "metadata": {},
   "outputs": [],
   "source": [
    "import six\n",
    "\n",
    "for sku, text in six.iteritems(data):\n",
    "    chunks = chunk(text, tokenizer, chunk_overlap = 512)\n",
    "    for created_chunk in chunks:\n",
    "        embeddings = compute_embeddings(created_chunk, tokenizer, model)\n",
    "        collection.add(ids = str(uuid.uuid1()), embeddings=embeddings, metadatas={ \"sku\": sku }, documents=created_chunk )"
   ]
  },
  {
   "cell_type": "code",
   "execution_count": 72,
   "metadata": {},
   "outputs": [],
   "source": [
    "#question = \"What does Virtual reality gaming include\" \n",
    "#question = \"color of cantilevel umbrella\"\n",
    "#question = \"dimension of walnut wood sleigh bed\"\n",
    "#question = \"color of twin size day-bed\"\n",
    "#question = \"does the pool table have black felt\"\n",
    "#question = \"what is the color of Twin-size daybed\"\n",
    "#question = \"Frame size of wall art set\"\n",
    "#question = \"what is the rolling kitchen cart made of\"\n",
    "question = \"color of leather home theater recliner\""
   ]
  },
  {
   "cell_type": "code",
   "execution_count": 73,
   "metadata": {},
   "outputs": [
    {
     "name": "stderr",
     "output_type": "stream",
     "text": [
      "Number of requested results 100 is greater than number of elements in index 21, updating n_results = 21\n"
     ]
    }
   ],
   "source": [
    "chunks = chunk(text, tokenizer, chunk_overlap = 512)\n",
    "embeddings = []\n",
    "\n",
    "for created_chunk in chunks:\n",
    "    embedding = compute_embeddings(created_chunk, tokenizer, model)\n",
    "    embeddings.append(embedding)\n",
    "\n",
    "res = collection.query(\n",
    "    query_embeddings=embeddings,\n",
    "    n_results=100,\n",
    "    include=['distances', 'documents', 'metadatas']\n",
    ")\n",
    "\n",
    "data = []\n",
    "for i in range(len(res['ids'][0])):\n",
    "    d = {}\n",
    "    d['id'] = res['ids'][0][i]\n",
    "    d['documents'] = res['documents'][0][i]\n",
    "    d['distances'] = res['distances'][0][i]\n",
    "    d['metadatas'] = res['metadatas'][0][i]\n",
    "\n",
    "    data.append(d)\n",
    "data = sorted(data, key = lambda x: x['distances'], reverse=True)[0: 4]"
   ]
  },
  {
   "cell_type": "code",
   "execution_count": 74,
   "metadata": {},
   "outputs": [
    {
     "data": {
      "text/plain": [
       "[{'id': 'd97d8c86-2c6b-11ef-9232-70cf4972c938',\n",
       "  'documents': 'Virtual reality gaming set by VR Innovations, includes headset, two motion controllers, and a charging station. Offers a comprehensive library of immersive games and experiences.',\n",
       "  'distances': 0.5987853211979701,\n",
       "  'metadatas': {'sku': 'ENT-5003'}},\n",
       " {'id': 'd96178ff-2c6b-11ef-ac0e-70cf4972c938',\n",
       "  'documents': 'Cantilever umbrella in sunflower yellow, featuring a 10-foot canopy and adjustable tilt for optimal shade. Constructed with a sturdy aluminum pole and fade-resistant fabric. Manufactured by Shade Masters. Dimensions: 120\"W x 120\"D x 96\"H.',\n",
       "  'distances': 0.5148202416002798,\n",
       "  'metadatas': {'sku': 'OPT-4002'}},\n",
       " {'id': 'd9704612-2c6b-11ef-8cfa-70cf4972c938',\n",
       "  'documents': 'Digital jukebox with touchscreen interface and built-in speakers, capable of streaming music and playing CDs. Retro design with modern technology, includes customizable LED lighting. Produced by RetroSound. Dimensions: 24\"W x 15\"D x 48\"H.',\n",
       "  'distances': 0.5010727672279025,\n",
       "  'metadatas': {'sku': 'ENT-5001'}},\n",
       " {'id': 'd98e2e5a-2c6b-11ef-bfa0-70cf4972c938',\n",
       "  'documents': 'Contemporary pendant light cluster with three frosted glass shades, suspended from a polished nickel ceiling plate. Provides elegant, diffuse lighting over kitchen islands. Manufactured by Luminary Designs. Adjustable drop length up to 60\".',\n",
       "  'distances': 0.500767856818197,\n",
       "  'metadatas': {'sku': 'KIT-6002'}}]"
      ]
     },
     "execution_count": 74,
     "metadata": {},
     "output_type": "execute_result"
    }
   ],
   "source": [
    "data"
   ]
  },
  {
   "cell_type": "markdown",
   "metadata": {},
   "source": []
  },
  {
   "cell_type": "code",
   "execution_count": 75,
   "metadata": {},
   "outputs": [
    {
     "name": "stderr",
     "output_type": "stream",
     "text": [
      "Some weights of the model checkpoint at bert-large-uncased-whole-word-masking-finetuned-squad were not used when initializing BertForQuestionAnswering: ['bert.pooler.dense.bias', 'bert.pooler.dense.weight']\n",
      "- This IS expected if you are initializing BertForQuestionAnswering from the checkpoint of a model trained on another task or with another architecture (e.g. initializing a BertForSequenceClassification model from a BertForPreTraining model).\n",
      "- This IS NOT expected if you are initializing BertForQuestionAnswering from the checkpoint of a model that you expect to be exactly identical (initializing a BertForSequenceClassification model from a BertForSequenceClassification model).\n"
     ]
    }
   ],
   "source": [
    "from transformers import BertForQuestionAnswering\n",
    "from transformers import BertTokenizer\n",
    "\n",
    "qa_tokenizer = BertTokenizer.from_pretrained('bert-large-uncased-whole-word-masking-finetuned-squad')\n",
    "qa_model = BertForQuestionAnswering.from_pretrained('bert-large-uncased-whole-word-masking-finetuned-squad')\n"
   ]
  },
  {
   "cell_type": "code",
   "execution_count": 76,
   "metadata": {},
   "outputs": [],
   "source": [
    "def generateResponse(question, context, tokenizer, model):\n",
    "    print(question)\n",
    "    print(context)\n",
    "    input_ids = tokenizer.encode(question, context)\n",
    "    tokens = tokenizer.convert_ids_to_tokens(input_ids)\n",
    "    sep_idx = tokens.index('[SEP]')\n",
    "    token_type_ids = [0 for i in range(sep_idx+1)] + [1 for i in range(sep_idx+1,len(tokens))]\n",
    "\n",
    "    out = model(torch.tensor([input_ids]), # The tokens representing our input text.\n",
    "                token_type_ids=torch.tensor([token_type_ids]))\n",
    "\n",
    "    start_logits,end_logits = out['start_logits'],out['end_logits']\n",
    "    answer_start = torch.argmax(start_logits)\n",
    "    answer_end = torch.argmax(end_logits)\n",
    "    ans = ''.join(tokens[answer_start:answer_end])\n",
    "\n",
    "    return ans\n"
   ]
  },
  {
   "cell_type": "code",
   "execution_count": 77,
   "metadata": {},
   "outputs": [
    {
     "name": "stdout",
     "output_type": "stream",
     "text": [
      "color of leather home theater recliner\n",
      "Virtual reality gaming set by VR Innovations, includes headset, two motion controllers, and a charging station. Offers a comprehensive library of immersive games and experiences.Cantilever umbrella in sunflower yellow, featuring a 10-foot canopy and adjustable tilt for optimal shade. Constructed with a sturdy aluminum pole and fade-resistant fabric. Manufactured by Shade Masters. Dimensions: 120\"W x 120\"D x 96\"H.Digital jukebox with touchscreen interface and built-in speakers, capable of streaming music and playing CDs. Retro design with modern technology, includes customizable LED lighting. Produced by RetroSound. Dimensions: 24\"W x 15\"D x 48\"H.Contemporary pendant light cluster with three frosted glass shades, suspended from a polished nickel ceiling plate. Provides elegant, diffuse lighting over kitchen islands. Manufactured by Luminary Designs. Adjustable drop length up to 60\".\n",
      "\n"
     ]
    }
   ],
   "source": [
    "print(\n",
    "    generateResponse(\n",
    "        question,\n",
    "        \"\".join([i['documents'] for i in data]),\n",
    "        qa_tokenizer,\n",
    "        qa_model\n",
    "    )\n",
    ")\n"
   ]
  },
  {
   "cell_type": "code",
   "execution_count": null,
   "metadata": {},
   "outputs": [],
   "source": [
    "\n"
   ]
  },
  {
   "cell_type": "code",
   "execution_count": null,
   "metadata": {},
   "outputs": [],
   "source": []
  }
 ],
 "metadata": {
  "kernelspec": {
   "display_name": "nlp",
   "language": "python",
   "name": "python3"
  },
  "language_info": {
   "codemirror_mode": {
    "name": "ipython",
    "version": 3
   },
   "file_extension": ".py",
   "mimetype": "text/x-python",
   "name": "python",
   "nbconvert_exporter": "python",
   "pygments_lexer": "ipython3",
   "version": "3.11.9"
  }
 },
 "nbformat": 4,
 "nbformat_minor": 2
}
